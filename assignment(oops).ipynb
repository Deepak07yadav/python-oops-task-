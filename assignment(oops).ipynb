{
 "cells": [
  {
   "cell_type": "markdown",
   "id": "fc235c93-c44c-4854-b8f6-b813929f7b02",
   "metadata": {},
   "source": [
    "assignment(oops task)"
   ]
  },
  {
   "cell_type": "markdown",
   "id": "1641450d-50d4-44f6-99ee-eea66c69d6d9",
   "metadata": {},
   "source": [
    "Q1, Create a vehicle class with an init method having instance variables as name_of_vehicle, max_speed\n",
    "and average_of_vehicle.\n",
    "ans-"
   ]
  },
  {
   "cell_type": "code",
   "execution_count": 3,
   "id": "ea4602d1-db5e-4068-a052-2494ceffb35f",
   "metadata": {},
   "outputs": [],
   "source": [
    "class vehicle:\n",
    "    \n",
    "    def __init__(self,name_of_vehicle,max_speed,average_of_vehicle):\n",
    "        self.name_of_vehicle=name_of_vehicle\n",
    "        self.max_speed=max_speed\n",
    "        self.average_of_vehicle=average_of_vehicle\n",
    "    "
   ]
  },
  {
   "cell_type": "markdown",
   "id": "844ddf2d-6365-4402-b0dc-6d4e241606ca",
   "metadata": {},
   "source": [
    "Q2. Create a child class car from the vehicle class created in Que 1, which will inherit the vehicle class.\n",
    "Create a method named seating_capacity which takes capacity as an argument and returns the name of\n",
    "the vehicle and its seating capacity.\n",
    "ans-"
   ]
  },
  {
   "cell_type": "code",
   "execution_count": 12,
   "id": "4e3cf63e-54fc-4069-a0e1-5057c2855137",
   "metadata": {},
   "outputs": [],
   "source": [
    "class car(vehicle):\n",
    "    def seating_capacity(self,capacity):\n",
    "        return self.name_of_vehicle,capacity"
   ]
  },
  {
   "cell_type": "code",
   "execution_count": 29,
   "id": "dda1f0b1-0b61-4f3d-84ea-87f5a901c153",
   "metadata": {},
   "outputs": [],
   "source": [
    "car1=car(\"Maruti\",120,27)"
   ]
  },
  {
   "cell_type": "code",
   "execution_count": 14,
   "id": "bc1adb11-5c29-4256-89b8-0e8d348a1d31",
   "metadata": {},
   "outputs": [
    {
     "data": {
      "text/plain": [
       "('Maruti', 5)"
      ]
     },
     "execution_count": 14,
     "metadata": {},
     "output_type": "execute_result"
    }
   ],
   "source": [
    "car1.seating_capacity(5)"
   ]
  },
  {
   "cell_type": "markdown",
   "id": "b83c1b9d-8a23-478e-94b6-97961ca807da",
   "metadata": {},
   "source": [
    "Q3. What is multiple inheritance? Write a python code to demonstrate multiple inheritance.\n",
    "\n",
    "ans-It is one of the importent property which is used to inherit the feature of parent class into child class"
   ]
  },
  {
   "cell_type": "code",
   "execution_count": 22,
   "id": "ebb6bc75-f171-4bdb-a22b-109ed96b0546",
   "metadata": {},
   "outputs": [],
   "source": [
    "class grandparent:\n",
    "    def message(self):\n",
    "        return \"grandparent class1\""
   ]
  },
  {
   "cell_type": "code",
   "execution_count": 23,
   "id": "c3b7d19c-d19a-4d7a-8868-dad3e58bfa82",
   "metadata": {},
   "outputs": [],
   "source": [
    "class parent(grandparent):\n",
    "    def message1(self):\n",
    "        return \"parent class2\""
   ]
  },
  {
   "cell_type": "code",
   "execution_count": 24,
   "id": "07991c65-79c2-4958-8cb5-d6e1abf05abc",
   "metadata": {},
   "outputs": [],
   "source": [
    "class child(grandparent):\n",
    "    def message2(self):\n",
    "        return \"child class3\""
   ]
  },
  {
   "cell_type": "code",
   "execution_count": 25,
   "id": "2d3476e5-a2cb-40db-85e4-0a06f8544cc7",
   "metadata": {},
   "outputs": [],
   "source": [
    "child1=child()"
   ]
  },
  {
   "cell_type": "code",
   "execution_count": 26,
   "id": "191f3415-abf2-47f3-9429-54be9df97905",
   "metadata": {},
   "outputs": [
    {
     "data": {
      "text/plain": [
       "'grandparent class1'"
      ]
     },
     "execution_count": 26,
     "metadata": {},
     "output_type": "execute_result"
    }
   ],
   "source": [
    "child1.message()"
   ]
  },
  {
   "cell_type": "markdown",
   "id": "5ebdd016-c702-4fc9-b29d-a51a37942d02",
   "metadata": {},
   "source": [
    "Q4. What are getter and setter in python? Create a class and create a getter and a setter method in this\n",
    "class.\n",
    "\n",
    "ans-\n",
    "getter is a funtion which is used to get dthe data whereas,setter function is used to set the data."
   ]
  },
  {
   "cell_type": "code",
   "execution_count": 28,
   "id": "11a3d694-6bc2-4fbd-9d6f-bbba3a1fba47",
   "metadata": {},
   "outputs": [],
   "source": [
    "class car(vehicle):\n",
    "    def seating_capacity(self,capacity):\n",
    "        return self.name_of_vehicle,capacity\n",
    "    \n",
    "    def set_max_speed(self,speed):\n",
    "        if self.max_speed<=80:\n",
    "            self.max_speed=speed\n",
    "    def get_car_detials(self):\n",
    "        return self.name_of_vehicle,self.max_speed,self.average_of_vehicle\n",
    "            "
   ]
  },
  {
   "cell_type": "code",
   "execution_count": 30,
   "id": "f43a3dc2-fb38-4db0-82d7-c3d89e952453",
   "metadata": {},
   "outputs": [],
   "source": [
    "car1.set_max_speed(120)"
   ]
  },
  {
   "cell_type": "code",
   "execution_count": 31,
   "id": "78bd5539-83de-42e5-84fb-cbaedc52c477",
   "metadata": {},
   "outputs": [
    {
     "data": {
      "text/plain": [
       "('Maruti', 120, 27)"
      ]
     },
     "execution_count": 31,
     "metadata": {},
     "output_type": "execute_result"
    }
   ],
   "source": [
    "car1.get_car_detials()"
   ]
  },
  {
   "cell_type": "markdown",
   "id": "768f8203-f345-417d-970c-5c0a19aeea28",
   "metadata": {},
   "source": [
    "Q5.What is method overriding in python? Write a python code to demonstrate method overriding.\n",
    "\n",
    "ans-as far as method overriding in python is concerned on inheriting the same method that already child class is having will override the child class hence, method of parent class will be executed."
   ]
  },
  {
   "cell_type": "code",
   "execution_count": 42,
   "id": "f0131f17-c248-4c6f-83b2-d600507322b2",
   "metadata": {},
   "outputs": [],
   "source": [
    "class A:\n",
    "    def msg(self):\n",
    "        return \"this is a class A\"\n",
    "        "
   ]
  },
  {
   "cell_type": "code",
   "execution_count": 43,
   "id": "92797aa4-0146-4a5f-9ce0-c36b10f69e12",
   "metadata": {},
   "outputs": [],
   "source": [
    "class B(A):\n",
    "    def msg(self):\n",
    "        return \"this is a class B\""
   ]
  },
  {
   "cell_type": "code",
   "execution_count": 44,
   "id": "1e57a1e3-963e-4875-91e7-abbe1f7ea869",
   "metadata": {},
   "outputs": [],
   "source": [
    "student=A()"
   ]
  },
  {
   "cell_type": "code",
   "execution_count": 45,
   "id": "48434502-aecb-4d37-99ed-48a3f8553d23",
   "metadata": {},
   "outputs": [
    {
     "data": {
      "text/plain": [
       "'this is a class A'"
      ]
     },
     "execution_count": 45,
     "metadata": {},
     "output_type": "execute_result"
    }
   ],
   "source": [
    "student.msg()"
   ]
  },
  {
   "cell_type": "code",
   "execution_count": null,
   "id": "fbd3d4ff-5df3-4852-b649-033060476eb0",
   "metadata": {},
   "outputs": [],
   "source": []
  }
 ],
 "metadata": {
  "kernelspec": {
   "display_name": "Python 3 (ipykernel)",
   "language": "python",
   "name": "python3"
  },
  "language_info": {
   "codemirror_mode": {
    "name": "ipython",
    "version": 3
   },
   "file_extension": ".py",
   "mimetype": "text/x-python",
   "name": "python",
   "nbconvert_exporter": "python",
   "pygments_lexer": "ipython3",
   "version": "3.10.8"
  }
 },
 "nbformat": 4,
 "nbformat_minor": 5
}
